{
 "cells": [
  {
   "cell_type": "code",
   "execution_count": 9,
   "metadata": {},
   "outputs": [],
   "source": [
    "from rdkit import Chem\n",
    "from rdkit.Chem import Descriptors\n",
    "from rdkit.Chem import rdDepictor\n",
    "from rdkit.Chem.Draw import rdMolDraw2D\n",
    "import pandas as pd\n",
    "import numpy as np\n",
    "import io\n",
    "import torch\n",
    "import torch.nn as nn\n",
    "import torch.nn.functional as F\n",
    "import torch.optim as optim\n",
    "from torch.autograd import Variable\n",
    "import matplotlib.pyplot as plt\n",
    "import math\n",
    "import random\n",
    "from captum.attr import IntegratedGradients\n",
    "import pickle"
   ]
  },
  {
   "cell_type": "code",
   "execution_count": 10,
   "metadata": {},
   "outputs": [],
   "source": [
    "def one_hot_smile(smile):\n",
    "    key=\"()+–./-0123456789=#@ABCDEFGHIJKLMNOPQRSTUVWXYZ[\\]abcdefghijklmnopqrstuvwxyz^$\"\n",
    "    test_list=list(key)\n",
    "    res = {val : idx  for idx, val in enumerate(test_list)}\n",
    "    #smile=\"^\"+smile\n",
    "    smile=\"^\"+smile+(\"$\"*(299-len(smile)))\n",
    "    array=[[0 for j in range(len(key))] for i in range(300)]\n",
    "    for i in range(len(smile)):\n",
    "        array[i][res[smile[i]]]=1\n",
    "    array=torch.Tensor(array)\n",
    "    return array\n"
   ]
  },
  {
   "cell_type": "code",
   "execution_count": 11,
   "metadata": {},
   "outputs": [],
   "source": [
    "def one_hot_seq(seq):\n",
    "    key=\"^ABCDEFGHIJKLMNOPQRSTUVWXYZ$\"\n",
    "    seq=seq.upper()\n",
    "    test_list=list(key)\n",
    "    res = {val : idx  for idx, val in enumerate(test_list)}\n",
    "    #seq=\"^\"+seq+\"$\"\n",
    "    seq=\"^\"+seq+(\"$\"*(399-len(seq)))\n",
    "    array=[[0 for j in range(len(key))] for i in range(400)]\n",
    "    for i in range(len(seq)):\n",
    "        array[i][res[seq[i]]]=1\n",
    "    array=torch.Tensor(array)\n",
    "    return array"
   ]
  },
  {
   "cell_type": "code",
   "execution_count": 12,
   "metadata": {},
   "outputs": [],
   "source": [
    "class BLSTM(nn.Module):\n",
    "    def __init__(self, input_smile_dim, hidden_smile_dim, layer_smile_dim,input_seq_dim, hidden_seq_dim, layer_seq_dim, output_dim):\n",
    "        super(BLSTM, self).__init__()\n",
    "        self.hidden_smile_dim = hidden_smile_dim\n",
    "        self.layer_smile_dim = layer_smile_dim\n",
    "        self.hidden_seq_dim = hidden_seq_dim\n",
    "        self.layer_seq_dim = layer_seq_dim\n",
    "        self.output_dim = output_dim\n",
    "        self.smile_len = 300\n",
    "        self.seq_len = 400\n",
    "        self.num_smile_dir=2\n",
    "        self.num_seq_dir=2\n",
    "        \n",
    "        self.lstm_smile = nn.LSTM(input_smile_dim, hidden_smile_dim, layer_smile_dim,bidirectional=True)\n",
    "        self.lstm_seq = nn.LSTM(input_seq_dim, hidden_seq_dim, layer_seq_dim,bidirectional=True)\n",
    "        self.dropout = nn.Dropout(p=0.1)\n",
    "        self.fc_smile= nn.Linear(self.smile_len*hidden_smile_dim*self.num_smile_dir,50)\n",
    "        self.fc_seq= nn.Linear(self.seq_len*hidden_seq_dim*self.num_seq_dir,50)\n",
    "        \n",
    "        self.fc_combined = nn.Sequential(nn.Linear(100,10),nn.ReLU(),nn.Linear(10,output_dim))\n",
    "\n",
    "    def forward(self, x1,x2):\n",
    "        h0_smile = torch.zeros(self.layer_smile_dim*self.num_smile_dir, x1.size(1), self.hidden_smile_dim).requires_grad_()\n",
    "        c0_smile = torch.zeros(self.layer_smile_dim*self.num_smile_dir, x1.size(1), self.hidden_smile_dim).requires_grad_()\n",
    "        h0_seq = torch.zeros(self.layer_seq_dim*self.num_seq_dir, x2.size(1), self.hidden_seq_dim).requires_grad_()\n",
    "        c0_seq = torch.zeros(self.layer_seq_dim*self.num_seq_dir, x2.size(1), self.hidden_seq_dim).requires_grad_()\n",
    "\n",
    "        out_smile, (hn_smile, cn_smile) = self.lstm_smile(x1, (h0_smile, c0_smile))\n",
    "        out_seq, (hn_seq, cn_seq) = self.lstm_seq(x2, (h0_seq, c0_seq))\n",
    "        out_smile = self.dropout(out_smile)\n",
    "        out_seq = self.dropout(out_seq)\n",
    "        out_smile=self.fc_smile(out_smile.view(-1,self.smile_len*self.hidden_smile_dim*self.num_smile_dir))\n",
    "        out_seq=self.fc_seq(out_seq.view(-1,self.seq_len*self.hidden_seq_dim*self.num_seq_dir))\n",
    "        out_smile = self.dropout(out_smile)\n",
    "        out_seq = self.dropout(out_seq)\n",
    "        #out_combined=torch.cat(out_smile,out_seq)\n",
    "        out_combined=torch.cat((out_smile,out_seq), 1)\n",
    "        out_combined=self.fc_combined(out_combined)\n",
    "\n",
    "        prob=nn.Softmax(dim=1)(out_combined)\n",
    "        pred=nn.LogSoftmax(dim=1)(out_combined)\n",
    "        return pred\n"
   ]
  },
  {
   "cell_type": "code",
   "execution_count": 13,
   "metadata": {},
   "outputs": [],
   "source": [
    "def user_predict(model, x_input_smile, x_input_seq):\n",
    "    x_user_smile=one_hot_smile(x_input_smile)\n",
    "    x_user_smile=list(x_user_smile)\n",
    "    x_user_smile=torch.stack(x_user_smile)\n",
    "    x_user_smile=x_user_smile.view(1,300,77)\n",
    "\n",
    "    x_user_seq=one_hot_seq(x_input_seq)\n",
    "    x_user_seq=list(x_user_seq)\n",
    "    x_user_seq=torch.stack(x_user_seq)\n",
    "    x_user_seq=x_user_seq.view(1,400,28)\n",
    "\n",
    "    scores = model(x_user_smile,x_user_seq)\n",
    "    _, predictions = scores.max(1)\n",
    "    print(\"Prediction is \", predictions.item())\n",
    "\n",
    "    prob=torch.exp(scores)\n",
    "    prob=prob.tolist()\n",
    "    print(\"Probability is\",  prob[0][predictions.item()] )\n",
    "\n",
    "\n",
    "    ig = IntegratedGradients(model)\n",
    "    x_user_smile.requires_grad_()\n",
    "    baseline = torch.zeros(1, 300, 77)\n",
    "    for i in baseline[0]:\n",
    "        i[-1]=1\n",
    "\n",
    "    attr,delta= ig.attribute(x_user_smile,baselines=baseline, target=1,additional_forward_args =x_user_seq,return_convergence_delta=True)\n",
    "    attr=attr.view(300,77)\n",
    "    maxattr,_=torch.max(attr,dim=1)\n",
    "    minattr,_=torch.min(attr,dim=1)\n",
    "    relevance=maxattr+minattr\n",
    "    relevance=relevance.detach().numpy()\n",
    "    data_relevance=pd.DataFrame()\n",
    "    data_relevance[\"values\"]=relevance\n",
    "\n",
    "    len_smile=len(x_input_smile)\n",
    "    cropped_smile_relevance=data_relevance.iloc[0:len_smile]\n",
    "    x_smile_labels=pd.Series(list(x_input_smile))\n",
    "    cropped_smile_relevance['smile_char']=x_smile_labels\n",
    "    impacts=[]\n",
    "    for row in range(len_smile):\n",
    "        if (ord(cropped_smile_relevance['smile_char'][row])<65 or ord(cropped_smile_relevance['smile_char'][row])>90):\n",
    "            cropped_smile_relevance['values'][row]=0\n",
    "        else:\n",
    "            impacts.append(cropped_smile_relevance['values'][row])\n",
    "    impacts=np.array(impacts)\n",
    "    print(impacts)\n",
    "    ax = cropped_smile_relevance['values'].plot(kind='bar',figsize=(20,10) ,color=(data_relevance['values'] > 0).map({True: 'g',False: 'r'}))\n",
    "    ax.set_xticklabels(cropped_smile_relevance['smile_char'])\n",
    "    ax.set_xlabel(\"Smiles\")\n",
    "    ax.set_ylabel(\"Relevance\")\n",
    "    ax.figure.savefig('barplot.png')\n",
    "    \n",
    "    mol=x_input_smile\n",
    "    m = Chem.MolFromSmiles(mol)\n",
    "    num_atoms = m.GetNumAtoms()\n",
    "    labels = [ m.GetAtomWithIdx(i).GetSymbol().upper() for i in range(num_atoms) ]\n",
    "    colors = {}\n",
    "    i=0\n",
    "    k=0\n",
    "    y_max = np.max(impacts)\n",
    "    y_min = np.min(impacts)\n",
    "    dist = y_max - y_min\n",
    "    while i < len(mol):\n",
    "        c = mol[i]\n",
    "        n = \"\"\n",
    "        if c.upper() not in \"CBONSPFIK\":\n",
    "            print(mol[i], 0.0, \"0xFFFFFF\")\n",
    "        else:       \n",
    "            if i + 1 < len(mol):\n",
    "                n = mol[i+1]\n",
    "            sym = c + n    \n",
    "            sym = sym.strip()\n",
    "            com = sym.upper()\n",
    "            if com == \"BR\" or com == \"CL\" or com == \"NA\":\n",
    "                i = i + 1\n",
    "            else:\n",
    "                com = c.upper()\n",
    "                sym = c\n",
    "            if com == labels[k]:\n",
    "                color = \"0xBBBBBB\"\n",
    "                triple = [0, 0 ,0]\n",
    "                if impacts[k] > 0.0:\n",
    "                    y = int(math.floor(255.0 - 155.0 * impacts[k]  / y_max))\n",
    "                    color = \"0x00\" + hex(y)[-2:] + \"00\"\n",
    "                    triple[1] = y /255.0\n",
    "                if impacts[k] < 0.0:\n",
    "                    y = int(math.floor(255.0 - 155.0 * impacts[k]  / y_min))\n",
    "                    color = \"0x\" + hex(y)[-2:] + \"0000\"\n",
    "                    triple[0] = y / 255.0\n",
    "                colors[k]= tuple(triple)\n",
    "                print(sym, impacts[k], color)\n",
    "                k = k + 1   \n",
    "        i = i + 1\n",
    "    drawer = rdMolDraw2D.MolDraw2DSVG(400, 400)\n",
    "\n",
    "    drawer.DrawMolecule(m,highlightAtoms = [i for i in range(num_atoms)], highlightBonds=[], highlightAtomColors = colors)\n",
    "    drawer.FinishDrawing()\n",
    "    svg = drawer.GetDrawingText().replace('svg:','')\n",
    "\n",
    "    fp = open(\"mol.svg\", \"w\")\n",
    "    print(svg, file=fp)\n",
    "    fp.close()"
   ]
  },
  {
   "cell_type": "code",
   "execution_count": 14,
   "metadata": {},
   "outputs": [],
   "source": [
    "filename = 'M4.sav'\n",
    "loaded_model = pickle.load(open(filename, 'rb'))"
   ]
  },
  {
   "cell_type": "code",
   "execution_count": 15,
   "metadata": {},
   "outputs": [],
   "source": [
    "user_smile='CCCCC(S)C(C)CO'\n",
    "user_seq='MSFSSLPTEIQSLLFLTFLTIYLVTLMGNCLIILVTLADPMLHSPMYFFLRNLSFLEIGFNLVIVPKMLGTLLAQDTTISFLGCATQMYFFFFFGVAECFLLATMAYDRYVAICSPLHYPVIMNQRTRAKLAAASWFPGFPVATVQTTWLFSFPFCGTNKVNHFFCDSPPVLRLVCADTALFEIYAIVGTILVVMIPCLLILCSYTHIAAAILKIPSAKGKNKAFSTCSSHLLVVSLFYISLSLTYFRPKSNNSPEGKKLLSLSYTVMTPMLNPIIYSLRNNEVKNALSRTVSKALALRNCIP'"
   ]
  },
  {
   "cell_type": "code",
   "execution_count": 16,
   "metadata": {
    "scrolled": true
   },
   "outputs": [
    {
     "name": "stdout",
     "output_type": "stream",
     "text": [
      "Prediction is  0\n",
      "Probability is 0.9681814908981323\n",
      "[ 8.80390251e-04  2.38381399e-01 -1.51162501e-03 -7.45731685e-01\n",
      " -1.25903817e+00 -7.18389641e-01 -1.46265517e-01  3.60718929e-01\n",
      " -3.03352367e-01  1.86774695e-01]\n"
     ]
    },
    {
     "name": "stderr",
     "output_type": "stream",
     "text": [
      "/home/ria/anaconda3/envs/my-rdkit-env/lib/python3.6/site-packages/ipykernel_launcher.py:39: SettingWithCopyWarning: \n",
      "A value is trying to be set on a copy of a slice from a DataFrame.\n",
      "Try using .loc[row_indexer,col_indexer] = value instead\n",
      "\n",
      "See the caveats in the documentation: https://pandas.pydata.org/pandas-docs/stable/user_guide/indexing.html#returning-a-view-versus-a-copy\n",
      "/home/ria/anaconda3/envs/my-rdkit-env/lib/python3.6/site-packages/ipykernel_launcher.py:43: SettingWithCopyWarning: \n",
      "A value is trying to be set on a copy of a slice from a DataFrame\n",
      "\n",
      "See the caveats in the documentation: https://pandas.pydata.org/pandas-docs/stable/user_guide/indexing.html#returning-a-view-versus-a-copy\n",
      "/home/ria/anaconda3/envs/my-rdkit-env/lib/python3.6/site-packages/ipykernel_launcher.py:1: SettingWithCopyWarning: \n",
      "A value is trying to be set on a copy of a slice from a DataFrame\n",
      "\n",
      "See the caveats in the documentation: https://pandas.pydata.org/pandas-docs/stable/user_guide/indexing.html#returning-a-view-versus-a-copy\n",
      "  \"\"\"Entry point for launching an IPython kernel.\n"
     ]
    },
    {
     "name": "stdout",
     "output_type": "stream",
     "text": [
      "C 0.0008803902511527227 0x00fe00\n",
      "C 0.23838139857994473 0x009800\n",
      "C -0.0015116250066259315 0xfe0000\n",
      "C -0.7457316847728624 0xa30000\n",
      "C -1.2590381721422 0x640000\n",
      "( 0.0 0xFFFFFF\n",
      "S -0.718389640637631 0xa60000\n",
      ") 0.0 0xFFFFFF\n",
      "C -0.1462655170124543 0xec0000\n",
      "( 0.0 0xFFFFFF\n",
      "C 0.3607189287473681 0x006400\n",
      ") 0.0 0xFFFFFF\n",
      "C -0.3033523670402557 0xd90000\n",
      "O 0.18677469508542333 0x00ae00\n"
     ]
    },
    {
     "data": {
      "image/png": "[encoded data removed]",
      "text/plain": [
       "<Figure size 1440x720 with 1 Axes>"
      ]
     },
     "metadata": {
      "needs_background": "light"
     },
     "output_type": "display_data"
    }
   ],
   "source": [
    "user_predict(loaded_model, user_smile,user_seq)\n"
   ]
  },
  {
   "cell_type": "code",
   "execution_count": null,
   "metadata": {},
   "outputs": [],
   "source": []
  }
 ],
 "metadata": {
  "kernelspec": {
   "display_name": "Python [conda env:my-rdkit-env] *",
   "language": "python",
   "name": "conda-env-my-rdkit-env-py"
  },
  "language_info": {
   "codemirror_mode": {
    "name": "ipython",
    "version": 3
   },
   "file_extension": ".py",
   "mimetype": "text/x-python",
   "name": "python",
   "nbconvert_exporter": "python",
   "pygments_lexer": "ipython3",
   "version": "3.6.11"
  }
 },
 "nbformat": 4,
 "nbformat_minor": 2
}
